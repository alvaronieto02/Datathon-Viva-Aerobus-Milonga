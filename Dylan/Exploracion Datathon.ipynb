{
 "cells": [
  {
   "cell_type": "markdown",
   "id": "32b8226f-acf9-4122-9342-00f3feb77943",
   "metadata": {},
   "source": [
    "# Exploracion de datos"
   ]
  },
  {
   "cell_type": "code",
   "execution_count": 4,
   "id": "e61e0c2d-70bb-4f3e-a0e8-3a8aca480840",
   "metadata": {},
   "outputs": [
    {
     "data": {
      "text/html": [
       "<div>\n",
       "<style scoped>\n",
       "    .dataframe tbody tr th:only-of-type {\n",
       "        vertical-align: middle;\n",
       "    }\n",
       "\n",
       "    .dataframe tbody tr th {\n",
       "        vertical-align: top;\n",
       "    }\n",
       "\n",
       "    .dataframe thead th {\n",
       "        text-align: right;\n",
       "    }\n",
       "</style>\n",
       "<table border=\"1\" class=\"dataframe\">\n",
       "  <thead>\n",
       "    <tr style=\"text-align: right;\">\n",
       "      <th></th>\n",
       "      <th>Flight_ID</th>\n",
       "      <th>Aeronave</th>\n",
       "      <th>DepartureStation</th>\n",
       "      <th>ArrivalStation</th>\n",
       "      <th>Destination_Type</th>\n",
       "      <th>Origin_Type</th>\n",
       "      <th>STD</th>\n",
       "      <th>STA</th>\n",
       "      <th>Capacity</th>\n",
       "      <th>Passengers</th>\n",
       "      <th>Bookings</th>\n",
       "    </tr>\n",
       "  </thead>\n",
       "  <tbody>\n",
       "    <tr>\n",
       "      <th>0</th>\n",
       "      <td>ab954014077430bd842cfa305a55c0f8</td>\n",
       "      <td>XA-VBY</td>\n",
       "      <td>AT</td>\n",
       "      <td>AZ</td>\n",
       "      <td>Ciudad Fronteriza</td>\n",
       "      <td>Ciudad Principal</td>\n",
       "      <td>2023-10-19 11:40:00</td>\n",
       "      <td>2023-10-19 14:25:00</td>\n",
       "      <td>240</td>\n",
       "      <td>229.0</td>\n",
       "      <td>157.0</td>\n",
       "    </tr>\n",
       "    <tr>\n",
       "      <th>1</th>\n",
       "      <td>efd86c996035dacdca7a0ccb2560dda1</td>\n",
       "      <td>XA-VIX</td>\n",
       "      <td>BM</td>\n",
       "      <td>AV</td>\n",
       "      <td>MX Amigos y Familia</td>\n",
       "      <td>Ciudad Fronteriza</td>\n",
       "      <td>2023-07-03 00:55:00</td>\n",
       "      <td>2023-07-03 04:55:00</td>\n",
       "      <td>186</td>\n",
       "      <td>197.0</td>\n",
       "      <td>109.0</td>\n",
       "    </tr>\n",
       "    <tr>\n",
       "      <th>2</th>\n",
       "      <td>6cfa1bbaa44f08fc7d3061f034a6a5ce</td>\n",
       "      <td>XA-VBV</td>\n",
       "      <td>AW</td>\n",
       "      <td>AS</td>\n",
       "      <td>MX Amigos y Familia</td>\n",
       "      <td>Ciudad Principal</td>\n",
       "      <td>2024-02-16 17:10:00</td>\n",
       "      <td>2024-02-16 17:55:00</td>\n",
       "      <td>220</td>\n",
       "      <td>NaN</td>\n",
       "      <td>NaN</td>\n",
       "    </tr>\n",
       "    <tr>\n",
       "      <th>3</th>\n",
       "      <td>dd0fad3248951d2f71d63e6279aeaa4b</td>\n",
       "      <td>XA-VBW</td>\n",
       "      <td>AW</td>\n",
       "      <td>AS</td>\n",
       "      <td>MX Amigos y Familia</td>\n",
       "      <td>Ciudad Principal</td>\n",
       "      <td>2023-06-26 15:15:00</td>\n",
       "      <td>2023-06-26 15:55:00</td>\n",
       "      <td>220</td>\n",
       "      <td>200.0</td>\n",
       "      <td>142.0</td>\n",
       "    </tr>\n",
       "    <tr>\n",
       "      <th>4</th>\n",
       "      <td>d0987ee648eea254063bfe2b39571b67</td>\n",
       "      <td>XA-VAP</td>\n",
       "      <td>BA</td>\n",
       "      <td>AB</td>\n",
       "      <td>Playa</td>\n",
       "      <td>Ciudad Principal</td>\n",
       "      <td>2023-02-10 08:40:00</td>\n",
       "      <td>2023-02-10 09:50:00</td>\n",
       "      <td>186</td>\n",
       "      <td>162.0</td>\n",
       "      <td>90.0</td>\n",
       "    </tr>\n",
       "    <tr>\n",
       "      <th>...</th>\n",
       "      <td>...</td>\n",
       "      <td>...</td>\n",
       "      <td>...</td>\n",
       "      <td>...</td>\n",
       "      <td>...</td>\n",
       "      <td>...</td>\n",
       "      <td>...</td>\n",
       "      <td>...</td>\n",
       "      <td>...</td>\n",
       "      <td>...</td>\n",
       "      <td>...</td>\n",
       "    </tr>\n",
       "    <tr>\n",
       "      <th>245748</th>\n",
       "      <td>cc7c1c5e6fd132fd0bdab3a35aac33c0</td>\n",
       "      <td>XA-VBK</td>\n",
       "      <td>BM</td>\n",
       "      <td>BT</td>\n",
       "      <td>Playa</td>\n",
       "      <td>Ciudad Fronteriza</td>\n",
       "      <td>2023-12-29 07:30:00</td>\n",
       "      <td>2023-12-29 14:50:00</td>\n",
       "      <td>240</td>\n",
       "      <td>189.0</td>\n",
       "      <td>86.0</td>\n",
       "    </tr>\n",
       "    <tr>\n",
       "      <th>245749</th>\n",
       "      <td>ef32da2731db80faa8b9f5030979a016</td>\n",
       "      <td>9H-MLV</td>\n",
       "      <td>AW</td>\n",
       "      <td>BT</td>\n",
       "      <td>Playa</td>\n",
       "      <td>Ciudad Principal</td>\n",
       "      <td>2024-04-20 10:45:00</td>\n",
       "      <td>2024-04-20 14:00:00</td>\n",
       "      <td>178</td>\n",
       "      <td>NaN</td>\n",
       "      <td>NaN</td>\n",
       "    </tr>\n",
       "    <tr>\n",
       "      <th>245750</th>\n",
       "      <td>9c8970e9836d9c5ef9415bfa93c3f408</td>\n",
       "      <td>XA-VAC</td>\n",
       "      <td>AT</td>\n",
       "      <td>BT</td>\n",
       "      <td>Playa</td>\n",
       "      <td>Ciudad Principal</td>\n",
       "      <td>2023-12-22 12:50:00</td>\n",
       "      <td>2023-12-22 16:10:00</td>\n",
       "      <td>180</td>\n",
       "      <td>163.0</td>\n",
       "      <td>95.0</td>\n",
       "    </tr>\n",
       "    <tr>\n",
       "      <th>245751</th>\n",
       "      <td>3c15779202b13158f78e8a8afe377250</td>\n",
       "      <td>NaN</td>\n",
       "      <td>AW</td>\n",
       "      <td>BT</td>\n",
       "      <td>Playa</td>\n",
       "      <td>Ciudad Principal</td>\n",
       "      <td>2024-10-04 10:00:00</td>\n",
       "      <td>2024-10-04 13:15:00</td>\n",
       "      <td>240</td>\n",
       "      <td>NaN</td>\n",
       "      <td>NaN</td>\n",
       "    </tr>\n",
       "    <tr>\n",
       "      <th>245752</th>\n",
       "      <td>20304ab7212bbbe6c77cdc852d4f8d19</td>\n",
       "      <td>NaN</td>\n",
       "      <td>BA</td>\n",
       "      <td>BT</td>\n",
       "      <td>Playa</td>\n",
       "      <td>Ciudad Principal</td>\n",
       "      <td>2024-05-23 11:25:00</td>\n",
       "      <td>2024-05-23 14:40:00</td>\n",
       "      <td>240</td>\n",
       "      <td>NaN</td>\n",
       "      <td>NaN</td>\n",
       "    </tr>\n",
       "  </tbody>\n",
       "</table>\n",
       "<p>245753 rows × 11 columns</p>\n",
       "</div>"
      ],
      "text/plain": [
       "                               Flight_ID Aeronave DepartureStation  \\\n",
       "0       ab954014077430bd842cfa305a55c0f8   XA-VBY               AT   \n",
       "1       efd86c996035dacdca7a0ccb2560dda1   XA-VIX               BM   \n",
       "2       6cfa1bbaa44f08fc7d3061f034a6a5ce   XA-VBV               AW   \n",
       "3       dd0fad3248951d2f71d63e6279aeaa4b   XA-VBW               AW   \n",
       "4       d0987ee648eea254063bfe2b39571b67   XA-VAP               BA   \n",
       "...                                  ...      ...              ...   \n",
       "245748  cc7c1c5e6fd132fd0bdab3a35aac33c0   XA-VBK               BM   \n",
       "245749  ef32da2731db80faa8b9f5030979a016   9H-MLV               AW   \n",
       "245750  9c8970e9836d9c5ef9415bfa93c3f408   XA-VAC               AT   \n",
       "245751  3c15779202b13158f78e8a8afe377250      NaN               AW   \n",
       "245752  20304ab7212bbbe6c77cdc852d4f8d19      NaN               BA   \n",
       "\n",
       "       ArrivalStation     Destination_Type        Origin_Type  \\\n",
       "0                  AZ    Ciudad Fronteriza   Ciudad Principal   \n",
       "1                  AV  MX Amigos y Familia  Ciudad Fronteriza   \n",
       "2                  AS  MX Amigos y Familia   Ciudad Principal   \n",
       "3                  AS  MX Amigos y Familia   Ciudad Principal   \n",
       "4                  AB                Playa   Ciudad Principal   \n",
       "...               ...                  ...                ...   \n",
       "245748             BT                Playa  Ciudad Fronteriza   \n",
       "245749             BT                Playa   Ciudad Principal   \n",
       "245750             BT                Playa   Ciudad Principal   \n",
       "245751             BT                Playa   Ciudad Principal   \n",
       "245752             BT                Playa   Ciudad Principal   \n",
       "\n",
       "                        STD                  STA  Capacity  Passengers  \\\n",
       "0       2023-10-19 11:40:00  2023-10-19 14:25:00       240       229.0   \n",
       "1       2023-07-03 00:55:00  2023-07-03 04:55:00       186       197.0   \n",
       "2       2024-02-16 17:10:00  2024-02-16 17:55:00       220         NaN   \n",
       "3       2023-06-26 15:15:00  2023-06-26 15:55:00       220       200.0   \n",
       "4       2023-02-10 08:40:00  2023-02-10 09:50:00       186       162.0   \n",
       "...                     ...                  ...       ...         ...   \n",
       "245748  2023-12-29 07:30:00  2023-12-29 14:50:00       240       189.0   \n",
       "245749  2024-04-20 10:45:00  2024-04-20 14:00:00       178         NaN   \n",
       "245750  2023-12-22 12:50:00  2023-12-22 16:10:00       180       163.0   \n",
       "245751  2024-10-04 10:00:00  2024-10-04 13:15:00       240         NaN   \n",
       "245752  2024-05-23 11:25:00  2024-05-23 14:40:00       240         NaN   \n",
       "\n",
       "        Bookings  \n",
       "0          157.0  \n",
       "1          109.0  \n",
       "2            NaN  \n",
       "3          142.0  \n",
       "4           90.0  \n",
       "...          ...  \n",
       "245748      86.0  \n",
       "245749       NaN  \n",
       "245750      95.0  \n",
       "245751       NaN  \n",
       "245752       NaN  \n",
       "\n",
       "[245753 rows x 11 columns]"
      ]
     },
     "metadata": {},
     "output_type": "display_data"
    }
   ],
   "source": [
    "import pandas as pd\n",
    "import matplotlib.pyplot as plt\n",
    "\n",
    "vuelos = 'C:\\\\Users\\\\max80\\\\OneDrive\\\\Documents\\\\DATATHON 2024\\\\Filghts TEC_Valid.csv'\n",
    "compras = 'C:\\\\Users\\\\max80\\\\OneDrive\\\\Documents\\\\DATATHON 2024\\\\Sales TEC_Valid.csv'\n",
    "\n",
    "df_vuelos = pd.read_csv(vuelos)\n",
    "df_compras = pd.read_csv(compras)\n",
    "\n",
    "n_vuelos = df_vuelos.shape[0]\n",
    "n_compras = df_compras.shape[0]\n",
    "\n",
    "vacios_vuelos = df_vuelos.isna()\n",
    "vacios_vuelos = vacios_vuelos.sum()\n",
    "\n",
    "vacios_compras = df_compras.isna()\n",
    "vacios_compras = vacios_compras.sum()\n",
    "\n",
    "display(df_vuelos)"
   ]
  },
  {
   "cell_type": "code",
   "execution_count": 5,
   "id": "f2028ee4-eef2-4129-9771-f5e4ac30bb01",
   "metadata": {},
   "outputs": [
    {
     "name": "stdout",
     "output_type": "stream",
     "text": [
      "La base de vuelos tiene: 245753 lineas\n",
      "La base de compras tiene: 2564361 lineas\n"
     ]
    }
   ],
   "source": [
    "print(\"La base de vuelos tiene:\", n_vuelos,\"lineas\")\n",
    "print(\"La base de compras tiene:\", n_compras,\"lineas\")"
   ]
  },
  {
   "cell_type": "code",
   "execution_count": 6,
   "id": "7931fb8a-829b-4e3b-9825-c9573509521a",
   "metadata": {},
   "outputs": [
    {
     "name": "stdout",
     "output_type": "stream",
     "text": [
      "Flight_ID                0\n",
      "Aeronave             80390\n",
      "DepartureStation         1\n",
      "ArrivalStation           1\n",
      "Destination_Type         1\n",
      "Origin_Type              1\n",
      "STD                      0\n",
      "STA                      0\n",
      "Capacity                 0\n",
      "Passengers          123525\n",
      "Bookings            123525\n",
      "dtype: int64\n"
     ]
    }
   ],
   "source": [
    "print(vacios_vuelos)"
   ]
  },
  {
   "cell_type": "code",
   "execution_count": 7,
   "id": "8820657d-e1a6-489f-9b4c-4395a0f36a69",
   "metadata": {},
   "outputs": [
    {
     "name": "stdout",
     "output_type": "stream",
     "text": [
      "Flight_ID      0\n",
      "ProductType    0\n",
      "ProductName    0\n",
      "Quantity       0\n",
      "TotalSales     0\n",
      "dtype: int64\n"
     ]
    }
   ],
   "source": [
    "print(vacios_compras)"
   ]
  },
  {
   "cell_type": "code",
   "execution_count": 8,
   "id": "334f9d41-b246-4adb-94a3-e2b5f25518e3",
   "metadata": {},
   "outputs": [
    {
     "name": "stdout",
     "output_type": "stream",
     "text": [
      "222\n"
     ]
    }
   ],
   "source": [
    "total_productos = df_compras['ProductName'].nunique()\n",
    "print(total_productos)"
   ]
  },
  {
   "cell_type": "code",
   "execution_count": 9,
   "id": "81a7f842-bd2e-476f-9120-3c724de09d60",
   "metadata": {},
   "outputs": [
    {
     "name": "stdout",
     "output_type": "stream",
     "text": [
      "21\n",
      "['Botanas' 'Licores' 'Vivabus' 'Transportaciones CUN' 'Galletas'\n",
      " 'Specials' 'Bebidas Calientes' 'COMBOS CREW' 'Hertz.' 'OFERTAS '\n",
      " 'Transportaciones MTY' 'Transportaciones TLC' 'VIVA PLAY' 'VIVA Taxis'\n",
      " 'Antros' 'VivaTransfer' 'Alimentos Charter' 'Perecederos' 'Refrescos'\n",
      " 'Sopas' 'Lacteos']\n"
     ]
    }
   ],
   "source": [
    "total_tipos = df_compras['ProductType'].nunique()\n",
    "print(total_tipos)\n",
    "\n",
    "array_tipos = df_compras['ProductType'].unique()\n",
    "print(array_tipos)"
   ]
  },
  {
   "cell_type": "code",
   "execution_count": 11,
   "id": "123936ea-8313-40fd-ad76-7c7d5a5ca43c",
   "metadata": {},
   "outputs": [
    {
     "name": "stdout",
     "output_type": "stream",
     "text": [
      "5\n",
      "['Ciudad Fronteriza' 'MX Amigos y Familia' 'Playa' nan 'Ciudad Principal'\n",
      " 'Ecoturismo']\n"
     ]
    }
   ],
   "source": [
    "total_destinos = df_vuelos['Destination_Type'].nunique()\n",
    "print(total_destinos)\n",
    "\n",
    "array_destinos = df_vuelos['Destination_Type'].unique()\n",
    "print(array_destinos)"
   ]
  },
  {
   "cell_type": "code",
   "execution_count": 12,
   "id": "4026237f-efb3-4213-852e-cdfdf41d6c9a",
   "metadata": {},
   "outputs": [
    {
     "name": "stdout",
     "output_type": "stream",
     "text": [
      "5\n",
      "['Ciudad Principal' 'Ciudad Fronteriza' 'MX Amigos y Familia' 'Playa'\n",
      " 'Ecoturismo' nan]\n"
     ]
    }
   ],
   "source": [
    "total_origenes = df_vuelos['Origin_Type'].nunique()\n",
    "print(total_origenes)\n",
    "\n",
    "array_origenes = df_vuelos['Origin_Type'].unique()\n",
    "print(array_origenes)"
   ]
  },
  {
   "cell_type": "code",
   "execution_count": null,
   "id": "81092c8d-13d0-40fe-b6ce-e1f472c5ec13",
   "metadata": {},
   "outputs": [],
   "source": [
    "total_ID = df_vuelos['Flight_ID'].nunique()\n",
    "print(total_ID)\n",
    "\n",
    "ID  = df_vuelos['Flight_ID'].value_counts()\n",
    "ID = pd.DataFrame(ID)\n",
    "ID = ID.sort_values(by = 'count', ascending = False)\n",
    "display(ID)"
   ]
  },
  {
   "cell_type": "code",
   "execution_count": null,
   "id": "9be80bc1-a85a-4b19-bcc2-4bc8a1960573",
   "metadata": {},
   "outputs": [],
   "source": [
    "df_vuelos['STD'] = pd.to_datetime(df_vuelos['STD'])\n",
    "df_vuelos['Año'] = df_vuelos['STD'].dt.year\n",
    "df_vuelos['Mes'] = df_vuelos['STD'].dt.month\n",
    "\n",
    "df_vuelos = df_vuelos.sort_values(by = 'STD', ascending = True)\n",
    "\n",
    "pasajeros_mes = df_vuelos.groupby(['Año', 'Mes'])['Passengers'].sum()\n",
    "\n",
    "plt.figure(figsize=(10, 6))\n",
    "pasajeros_mes.plot(marker='o', linestyle='-', color='burlywood', label='Total Pasajeros por mes')\n",
    "\n",
    "plt.xlabel('Fecha')\n",
    "plt.ylabel('Pasajeros')\n",
    "plt.title('Pasajeros 2023')\n",
    "plt.legend()\n",
    "plt.xticks(rotation=45)\n",
    "plt.grid(True)\n",
    "plt.tight_layout()\n",
    "plt.show()"
   ]
  },
  {
   "cell_type": "code",
   "execution_count": null,
   "id": "7cc493c3-e1a1-40cf-b7bd-9a66146234c7",
   "metadata": {},
   "outputs": [],
   "source": [
    "display(df_vuelos)"
   ]
  },
  {
   "cell_type": "code",
   "execution_count": null,
   "id": "26a9910c-d4fd-4685-8811-6938b5e30c9d",
   "metadata": {},
   "outputs": [],
   "source": []
  }
 ],
 "metadata": {
  "kernelspec": {
   "display_name": "Python 3 (ipykernel)",
   "language": "python",
   "name": "python3"
  },
  "language_info": {
   "codemirror_mode": {
    "name": "ipython",
    "version": 3
   },
   "file_extension": ".py",
   "mimetype": "text/x-python",
   "name": "python",
   "nbconvert_exporter": "python",
   "pygments_lexer": "ipython3",
   "version": "3.12.3"
  }
 },
 "nbformat": 4,
 "nbformat_minor": 5
}
