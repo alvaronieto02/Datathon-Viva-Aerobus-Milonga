{
 "cells": [
  {
   "cell_type": "code",
   "execution_count": 1,
   "metadata": {},
   "outputs": [],
   "source": [
    "import pandas as pd"
   ]
  },
  {
   "cell_type": "code",
   "execution_count": 5,
   "metadata": {},
   "outputs": [],
   "source": [
    "# Import datasets\n",
    "df_vuelos = pd.read_csv(\"D:/Documentos/Python Scripts/Datathon 2024/Filghts TEC_Valid.csv\")\n",
    "df_ventas = pd.read_csv(\"D:/Documentos/Python Scripts/Datathon 2024/Sales TEC_Valid.csv\")"
   ]
  },
  {
   "cell_type": "code",
   "execution_count": 42,
   "metadata": {},
   "outputs": [],
   "source": [
    "# Convert date strings to datetime objects, then sort dataframe by departure date\n",
    "df_vuelos[\"STD\"] = pd.to_datetime(df_vuelos[\"STD\"])\n",
    "df_vuelos[\"STA\"] = pd.to_datetime(df_vuelos[\"STA\"])\n",
    "\n",
    "df_vuelos = df_vuelos.sort_values(by=\"STD\")\n",
    "\n",
    "# Filter only data where Passengers and Bookings are not NaN (this is the training data)\n",
    "df_vuelos_1 = df_vuelos[ df_vuelos[\"Passengers\"].notna() ]\n",
    "# display(df_vuelos_1)"
   ]
  },
  {
   "cell_type": "code",
   "execution_count": 66,
   "metadata": {},
   "outputs": [
    {
     "name": "stderr",
     "output_type": "stream",
     "text": [
      "C:\\Users\\missa\\AppData\\Local\\Temp\\ipykernel_14904\\1486332905.py:3: SettingWithCopyWarning: \n",
      "A value is trying to be set on a copy of a slice from a DataFrame.\n",
      "Try using .loc[row_indexer,col_indexer] = value instead\n",
      "\n",
      "See the caveats in the documentation: https://pandas.pydata.org/pandas-docs/stable/user_guide/indexing.html#returning-a-view-versus-a-copy\n",
      "  df_v_m[\"Month\"] = df_v_m[\"STD\"].dt.month\n"
     ]
    },
    {
     "data": {
      "text/html": [
       "<div>\n",
       "<style scoped>\n",
       "    .dataframe tbody tr th:only-of-type {\n",
       "        vertical-align: middle;\n",
       "    }\n",
       "\n",
       "    .dataframe tbody tr th {\n",
       "        vertical-align: top;\n",
       "    }\n",
       "\n",
       "    .dataframe thead th {\n",
       "        text-align: right;\n",
       "    }\n",
       "</style>\n",
       "<table border=\"1\" class=\"dataframe\">\n",
       "  <thead>\n",
       "    <tr style=\"text-align: right;\">\n",
       "      <th></th>\n",
       "      <th>Month</th>\n",
       "      <th>Mean Passengers</th>\n",
       "      <th>Mean bookings</th>\n",
       "    </tr>\n",
       "  </thead>\n",
       "  <tbody>\n",
       "    <tr>\n",
       "      <th>0</th>\n",
       "      <td>1</td>\n",
       "      <td>174.0</td>\n",
       "      <td>109.0</td>\n",
       "    </tr>\n",
       "    <tr>\n",
       "      <th>1</th>\n",
       "      <td>2</td>\n",
       "      <td>177.0</td>\n",
       "      <td>114.0</td>\n",
       "    </tr>\n",
       "    <tr>\n",
       "      <th>2</th>\n",
       "      <td>3</td>\n",
       "      <td>181.0</td>\n",
       "      <td>116.0</td>\n",
       "    </tr>\n",
       "    <tr>\n",
       "      <th>3</th>\n",
       "      <td>4</td>\n",
       "      <td>185.0</td>\n",
       "      <td>112.0</td>\n",
       "    </tr>\n",
       "    <tr>\n",
       "      <th>4</th>\n",
       "      <td>5</td>\n",
       "      <td>185.0</td>\n",
       "      <td>117.0</td>\n",
       "    </tr>\n",
       "    <tr>\n",
       "      <th>5</th>\n",
       "      <td>6</td>\n",
       "      <td>185.0</td>\n",
       "      <td>115.0</td>\n",
       "    </tr>\n",
       "    <tr>\n",
       "      <th>6</th>\n",
       "      <td>7</td>\n",
       "      <td>191.0</td>\n",
       "      <td>110.0</td>\n",
       "    </tr>\n",
       "    <tr>\n",
       "      <th>7</th>\n",
       "      <td>8</td>\n",
       "      <td>187.0</td>\n",
       "      <td>109.0</td>\n",
       "    </tr>\n",
       "    <tr>\n",
       "      <th>8</th>\n",
       "      <td>9</td>\n",
       "      <td>182.0</td>\n",
       "      <td>117.0</td>\n",
       "    </tr>\n",
       "    <tr>\n",
       "      <th>9</th>\n",
       "      <td>10</td>\n",
       "      <td>188.0</td>\n",
       "      <td>118.0</td>\n",
       "    </tr>\n",
       "    <tr>\n",
       "      <th>10</th>\n",
       "      <td>11</td>\n",
       "      <td>185.0</td>\n",
       "      <td>117.0</td>\n",
       "    </tr>\n",
       "    <tr>\n",
       "      <th>11</th>\n",
       "      <td>12</td>\n",
       "      <td>181.0</td>\n",
       "      <td>111.0</td>\n",
       "    </tr>\n",
       "  </tbody>\n",
       "</table>\n",
       "</div>"
      ],
      "text/plain": [
       "    Month  Mean Passengers  Mean bookings\n",
       "0       1            174.0          109.0\n",
       "1       2            177.0          114.0\n",
       "2       3            181.0          116.0\n",
       "3       4            185.0          112.0\n",
       "4       5            185.0          117.0\n",
       "5       6            185.0          115.0\n",
       "6       7            191.0          110.0\n",
       "7       8            187.0          109.0\n",
       "8       9            182.0          117.0\n",
       "9      10            188.0          118.0\n",
       "10     11            185.0          117.0\n",
       "11     12            181.0          111.0"
      ]
     },
     "metadata": {},
     "output_type": "display_data"
    }
   ],
   "source": [
    "# Calculate average number of Passengers and Bookings each month\n",
    "df_v_m = df_vuelos_1\n",
    "df_v_m[\"Month\"] = df_v_m[\"STD\"].dt.month\n",
    "df_month_avg = df_v_m[[\"Month\",\"Passengers\",\"Bookings\"]].groupby(\"Month\", as_index=False).mean().round()\n",
    "# df_month_avg = df_vuelos_1[[\"Passengers\",\"Bookings\"]].groupby( by=df_vuelos_1[\"STD\"].dt.month, as_index=False ).mean().round()\n",
    "df_month_avg = df_month_avg.rename(columns={\"Passengers\":\"Mean Passengers\",\"Bookings\":\"Mean bookings\"})\n",
    "display(df_month_avg)"
   ]
  }
 ],
 "metadata": {
  "kernelspec": {
   "display_name": "Python 3",
   "language": "python",
   "name": "python3"
  },
  "language_info": {
   "codemirror_mode": {
    "name": "ipython",
    "version": 3
   },
   "file_extension": ".py",
   "mimetype": "text/x-python",
   "name": "python",
   "nbconvert_exporter": "python",
   "pygments_lexer": "ipython3",
   "version": "3.12.2"
  }
 },
 "nbformat": 4,
 "nbformat_minor": 2
}
